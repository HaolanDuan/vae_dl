{
 "cells": [
  {
   "cell_type": "code",
   "execution_count": 1,
   "id": "69b82a6e",
   "metadata": {},
   "outputs": [],
   "source": [
    "import torch\n",
    "import torch.nn as nn\n",
    "import torch.optim as optim\n",
    "import torch.nn.functional as F\n",
    "import torchvision\n",
    "import torchvision.transforms as transforms\n",
    "from torch.autograd import Variable\n",
    "import argparse\n",
    "import torch.utils.data\n",
    "from torchvision import datasets\n",
    "from torch.utils.data import DataLoader"
   ]
  },
  {
   "cell_type": "code",
   "execution_count": 3,
   "id": "490fa240",
   "metadata": {},
   "outputs": [
    {
     "name": "stdout",
     "output_type": "stream",
     "text": [
      "Files already downloaded and verified\n",
      "Files already downloaded and verified\n"
     ]
    }
   ],
   "source": [
    "transform = transforms.Compose([\n",
    "    transforms.ToTensor(),\n",
    "    #transforms.Normalize((0.5068,0.4861,0.4403), (0.2684, 0.2563, 0.2759)),\n",
    "])\n",
    "transform_test = transforms.Compose([\n",
    "    transforms.ToTensor(),\n",
    "    #transforms.Normalize((0.5068,0.4861,0.4403), (0.2684, 0.2563, 0.2759)),\n",
    "])\n",
    "\n",
    "trainset = torchvision.datasets.CIFAR10(\n",
    "    root='./data10', train=True, download=True, transform=transform)\n",
    "\n",
    "testset = torchvision.datasets.CIFAR10(\n",
    "    root='./data10', train=False, download=True, transform=transform_test)"
   ]
  },
  {
   "cell_type": "code",
   "execution_count": 4,
   "id": "699eba9b",
   "metadata": {},
   "outputs": [
    {
     "data": {
      "text/plain": [
       "{'airplane': 0,\n",
       " 'automobile': 1,\n",
       " 'bird': 2,\n",
       " 'cat': 3,\n",
       " 'deer': 4,\n",
       " 'dog': 5,\n",
       " 'frog': 6,\n",
       " 'horse': 7,\n",
       " 'ship': 8,\n",
       " 'truck': 9}"
      ]
     },
     "execution_count": 4,
     "metadata": {},
     "output_type": "execute_result"
    }
   ],
   "source": [
    "trainset.class_to_idx"
   ]
  },
  {
   "cell_type": "code",
   "execution_count": 5,
   "id": "5db2489c",
   "metadata": {},
   "outputs": [],
   "source": [
    "atmtrain = []\n",
    "for img,idx in trainset:\n",
    "    if idx == 1:\n",
    "        atmtrain.append(img)\n",
    "    "
   ]
  },
  {
   "cell_type": "code",
   "execution_count": 6,
   "id": "23d34000",
   "metadata": {},
   "outputs": [],
   "source": [
    "atmtest = []\n",
    "for img,idx in testset:\n",
    "    if idx == 1:\n",
    "        atmtest.append(img)"
   ]
  },
  {
   "cell_type": "code",
   "execution_count": 7,
   "id": "f33eca21",
   "metadata": {},
   "outputs": [],
   "source": [
    "trainloader = torch.utils.data.DataLoader(\n",
    "    atmtrain, batch_size=128, shuffle=True, num_workers=2)\n",
    "testloader = torch.utils.data.DataLoader(\n",
    "    atmtrain, batch_size=256, shuffle=False, num_workers=2)"
   ]
  },
  {
   "cell_type": "code",
   "execution_count": 8,
   "id": "15e5b9d5",
   "metadata": {},
   "outputs": [],
   "source": [
    "import torch\n",
    "from torch import nn\n",
    "from torch.nn import functional as F\n",
    "\n",
    "class VAE(nn.Module):\n",
    "    def __init__(self, hiddens=[16, 32, 64, 128, 256], latent_dim=128):\n",
    "        super(VAE, self).__init__()\n",
    "        self.latent_dim = latent_dim\n",
    "        \n",
    "        # Encoder layers\n",
    "        modules = []\n",
    "        prev_channels = 3\n",
    "        img_length = 32\n",
    "        for cur_channels in hiddens:\n",
    "            modules.append(nn.Sequential(\n",
    "                nn.Conv2d(prev_channels, cur_channels, kernel_size=3, stride=2, padding=1),\n",
    "                nn.BatchNorm2d(cur_channels),\n",
    "                nn.ReLU()))\n",
    "            prev_channels = cur_channels\n",
    "            img_length //= 2\n",
    "        self.encoder = nn.Sequential(*modules)\n",
    "        self.fc_mu = nn.Linear(prev_channels * img_length * img_length, latent_dim)\n",
    "        self.fc_logvar = nn.Linear(prev_channels * img_length * img_length, latent_dim)\n",
    "\n",
    "        # Decoder layers\n",
    "        modules = []\n",
    "        self.decoder_input = nn.Linear(latent_dim, prev_channels * img_length * img_length)\n",
    "        self.decoder_input_chw = (prev_channels, img_length, img_length)\n",
    "        for i in range(len(hiddens) - 1, 0, -1):\n",
    "            modules.append(nn.Sequential(\n",
    "                nn.ConvTranspose2d(hiddens[i], hiddens[i-1], kernel_size=3, stride=2, padding=1, output_padding=1),\n",
    "                nn.BatchNorm2d(hiddens[i-1]),\n",
    "                nn.ReLU()))\n",
    "        modules.append(nn.Sequential(\n",
    "            nn.ConvTranspose2d(hiddens[0],  hiddens[0], kernel_size=3, stride=2, padding=1, output_padding=1),\n",
    "            nn.BatchNorm2d(hiddens[0]), nn.ReLU(),\n",
    "            nn.Conv2d(hiddens[0], 3, kernel_size=3, stride=1, padding=1),\n",
    "            nn.ReLU()))  # You might want to change this to a sigmoid if your inputs are normalized to [0, 1]\n",
    "        self.decoder = nn.Sequential(*modules)\n",
    "\n",
    "    def encode(self, x):\n",
    "        x = self.encoder(x)\n",
    "        x = torch.flatten(x, 1)\n",
    "        mu = self.fc_mu(x)\n",
    "        logvar = self.fc_logvar(x)\n",
    "        return mu, logvar\n",
    "\n",
    "    def reparametrize(self, mu, logvar):\n",
    "        eps = torch.randn_like(logvar)\n",
    "        std = torch.exp(logvar / 2)\n",
    "        return mu + eps * std\n",
    "\n",
    "    def decode(self, z):\n",
    "        z = self.decoder_input(z)\n",
    "        z = torch.reshape(z, (-1, *self.decoder_input_chw))\n",
    "        decoded = self.decoder(z)\n",
    "        return decoded\n",
    "\n",
    "    def forward(self, x):\n",
    "        mu, logvar = self.encode(x)\n",
    "        z = self.reparametrize(mu, logvar)\n",
    "        return self.decode(z), mu, logvar\n",
    "\n",
    "# Instantiate and use the VAE\n",
    "model = VAE()\n"
   ]
  },
  {
   "cell_type": "code",
   "execution_count": 9,
   "id": "99538896",
   "metadata": {},
   "outputs": [],
   "source": [
    "def train(epoch):\n",
    "\n",
    "\n",
    "    #begin_time = time()\n",
    "    # train\n",
    "    model.train()\n",
    "    train_loss = 0\n",
    "    for batch_idx, data in enumerate(trainloader):\n",
    "        #data = torch.flatten(data, start_dim=1)\n",
    "        #data = data.to(device)\n",
    "        data = Variable(data)\n",
    "        #data = data.cuda()\n",
    "\n",
    "        optimizer.zero_grad()\n",
    "        recon_batch, mu, logvar = model(data)\n",
    "        loss = loss_function(recon_batch, data, mu, logvar)\n",
    "        loss.backward()\n",
    "        train_loss += loss.item()\n",
    "        optimizer.step()\n",
    "        if batch_idx % log_interval == 0:\n",
    "            print('Train Epoch: {} [{}/{} ({:.0f}%)]\\tLoss: {:.6f}'.format(\n",
    "                epoch, batch_idx * len(data), len(trainloader.dataset),\n",
    "                100. * batch_idx / len(trainloader),\n",
    "                loss.item()/ len(data)))\n",
    "            \n",
    "\n",
    "    print('====> Epoch: {} Average loss: {:.4f}'.format(\n",
    "          epoch, train_loss / len(trainloader.dataset)))"
   ]
  },
  {
   "cell_type": "code",
   "execution_count": 10,
   "id": "76ec3557",
   "metadata": {},
   "outputs": [],
   "source": [
    "def test(epoch):\n",
    "    model.eval()\n",
    "    test_loss = 0\n",
    "    for data in testloader:\n",
    "        #data = torch.flatten(data, start_dim=1)\n",
    "        \n",
    "        #data = data.cuda()\n",
    "        data = Variable(data)\n",
    "        #data = data.cuda()\n",
    "\n",
    "        optimizer.zero_grad()\n",
    "        recon_batch, mu, logvar = model(data)\n",
    "        test_loss += loss_function(recon_batch, data, mu, logvar).item()\n",
    "\n",
    "    test_loss /= len(testloader.dataset)\n",
    "    print('====> Test set loss: {:.4f}'.format(test_loss))"
   ]
  },
  {
   "cell_type": "code",
   "execution_count": 13,
   "id": "69598024",
   "metadata": {},
   "outputs": [],
   "source": [
    "kl_weight = 0.00025\n",
    "lr = 0.005\n",
    "\n",
    "def loss_function( recon_x, x, mu, logvar):\n",
    "    recons_loss = F.mse_loss(recon_x, x)\n",
    "    kl_divergence = torch.mean(\n",
    "         -0.5 * torch.sum(1+logvar-torch.exp(logvar)-mu**2, 1), 0)\n",
    "    loss = recons_loss + kl_divergence * kl_weight\n",
    "    return loss\n",
    "\n",
    "optimizer = torch.optim.Adam(model.parameters(), lr)\n"
   ]
  },
  {
   "cell_type": "code",
   "execution_count": 29,
   "id": "f105a50d",
   "metadata": {},
   "outputs": [
    {
     "name": "stdout",
     "output_type": "stream",
     "text": [
      "Train Epoch: 0 [0/5000 (0%)]\tLoss: 0.000311\n",
      "Train Epoch: 0 [1280/5000 (25%)]\tLoss: 0.000295\n",
      "Train Epoch: 0 [2560/5000 (50%)]\tLoss: 0.000285\n",
      "Train Epoch: 0 [3840/5000 (75%)]\tLoss: 0.000296\n",
      "====> Epoch: 0 Average loss: 0.0003\n",
      "====> Test set loss: 0.0001\n",
      "Train Epoch: 1 [0/5000 (0%)]\tLoss: 0.000292\n",
      "Train Epoch: 1 [1280/5000 (25%)]\tLoss: 0.000295\n",
      "Train Epoch: 1 [2560/5000 (50%)]\tLoss: 0.000298\n",
      "Train Epoch: 1 [3840/5000 (75%)]\tLoss: 0.000296\n",
      "====> Epoch: 1 Average loss: 0.0003\n",
      "====> Test set loss: 0.0001\n",
      "Train Epoch: 2 [0/5000 (0%)]\tLoss: 0.000305\n",
      "Train Epoch: 2 [1280/5000 (25%)]\tLoss: 0.000310\n",
      "Train Epoch: 2 [2560/5000 (50%)]\tLoss: 0.000309\n",
      "Train Epoch: 2 [3840/5000 (75%)]\tLoss: 0.000288\n",
      "====> Epoch: 2 Average loss: 0.0003\n",
      "====> Test set loss: 0.0001\n",
      "Train Epoch: 3 [0/5000 (0%)]\tLoss: 0.000282\n",
      "Train Epoch: 3 [1280/5000 (25%)]\tLoss: 0.000281\n",
      "Train Epoch: 3 [2560/5000 (50%)]\tLoss: 0.000306\n",
      "Train Epoch: 3 [3840/5000 (75%)]\tLoss: 0.000311\n",
      "====> Epoch: 3 Average loss: 0.0003\n",
      "====> Test set loss: 0.0002\n",
      "Train Epoch: 4 [0/5000 (0%)]\tLoss: 0.000281\n",
      "Train Epoch: 4 [1280/5000 (25%)]\tLoss: 0.000295\n",
      "Train Epoch: 4 [2560/5000 (50%)]\tLoss: 0.000303\n",
      "Train Epoch: 4 [3840/5000 (75%)]\tLoss: 0.000294\n",
      "====> Epoch: 4 Average loss: 0.0003\n",
      "====> Test set loss: 0.0001\n"
     ]
    },
    {
     "ename": "KeyboardInterrupt",
     "evalue": "",
     "output_type": "error",
     "traceback": [
      "\u001b[1;31m---------------------------------------------------------------------------\u001b[0m",
      "\u001b[1;31mKeyboardInterrupt\u001b[0m                         Traceback (most recent call last)",
      "\u001b[1;32m<ipython-input-29-b96454e5fbfa>\u001b[0m in \u001b[0;36m<module>\u001b[1;34m\u001b[0m\n\u001b[0;32m      1\u001b[0m \u001b[1;32mfor\u001b[0m \u001b[0mepoch\u001b[0m \u001b[1;32min\u001b[0m \u001b[0mrange\u001b[0m\u001b[1;33m(\u001b[0m\u001b[1;36m10\u001b[0m\u001b[1;33m)\u001b[0m\u001b[1;33m:\u001b[0m\u001b[1;33m\u001b[0m\u001b[1;33m\u001b[0m\u001b[0m\n\u001b[1;32m----> 2\u001b[1;33m     \u001b[0mtrain\u001b[0m\u001b[1;33m(\u001b[0m\u001b[0mepoch\u001b[0m\u001b[1;33m)\u001b[0m\u001b[1;33m\u001b[0m\u001b[1;33m\u001b[0m\u001b[0m\n\u001b[0m\u001b[0;32m      3\u001b[0m     \u001b[0mtest\u001b[0m\u001b[1;33m(\u001b[0m\u001b[0mepoch\u001b[0m\u001b[1;33m)\u001b[0m\u001b[1;33m\u001b[0m\u001b[1;33m\u001b[0m\u001b[0m\n",
      "\u001b[1;32m<ipython-input-9-12c16b288b76>\u001b[0m in \u001b[0;36mtrain\u001b[1;34m(epoch)\u001b[0m\n\u001b[0;32m     15\u001b[0m         \u001b[0mrecon_batch\u001b[0m\u001b[1;33m,\u001b[0m \u001b[0mmu\u001b[0m\u001b[1;33m,\u001b[0m \u001b[0mlogvar\u001b[0m \u001b[1;33m=\u001b[0m \u001b[0mmodel\u001b[0m\u001b[1;33m(\u001b[0m\u001b[0mdata\u001b[0m\u001b[1;33m)\u001b[0m\u001b[1;33m\u001b[0m\u001b[1;33m\u001b[0m\u001b[0m\n\u001b[0;32m     16\u001b[0m         \u001b[0mloss\u001b[0m \u001b[1;33m=\u001b[0m \u001b[0mloss_function\u001b[0m\u001b[1;33m(\u001b[0m\u001b[0mrecon_batch\u001b[0m\u001b[1;33m,\u001b[0m \u001b[0mdata\u001b[0m\u001b[1;33m,\u001b[0m \u001b[0mmu\u001b[0m\u001b[1;33m,\u001b[0m \u001b[0mlogvar\u001b[0m\u001b[1;33m)\u001b[0m\u001b[1;33m\u001b[0m\u001b[1;33m\u001b[0m\u001b[0m\n\u001b[1;32m---> 17\u001b[1;33m         \u001b[0mloss\u001b[0m\u001b[1;33m.\u001b[0m\u001b[0mbackward\u001b[0m\u001b[1;33m(\u001b[0m\u001b[1;33m)\u001b[0m\u001b[1;33m\u001b[0m\u001b[1;33m\u001b[0m\u001b[0m\n\u001b[0m\u001b[0;32m     18\u001b[0m         \u001b[0mtrain_loss\u001b[0m \u001b[1;33m+=\u001b[0m \u001b[0mloss\u001b[0m\u001b[1;33m.\u001b[0m\u001b[0mitem\u001b[0m\u001b[1;33m(\u001b[0m\u001b[1;33m)\u001b[0m\u001b[1;33m\u001b[0m\u001b[1;33m\u001b[0m\u001b[0m\n\u001b[0;32m     19\u001b[0m         \u001b[0moptimizer\u001b[0m\u001b[1;33m.\u001b[0m\u001b[0mstep\u001b[0m\u001b[1;33m(\u001b[0m\u001b[1;33m)\u001b[0m\u001b[1;33m\u001b[0m\u001b[1;33m\u001b[0m\u001b[0m\n",
      "\u001b[1;32m~\\anaconda3\\lib\\site-packages\\torch\\_tensor.py\u001b[0m in \u001b[0;36mbackward\u001b[1;34m(self, gradient, retain_graph, create_graph, inputs)\u001b[0m\n\u001b[0;32m    485\u001b[0m                 \u001b[0minputs\u001b[0m\u001b[1;33m=\u001b[0m\u001b[0minputs\u001b[0m\u001b[1;33m,\u001b[0m\u001b[1;33m\u001b[0m\u001b[1;33m\u001b[0m\u001b[0m\n\u001b[0;32m    486\u001b[0m             )\n\u001b[1;32m--> 487\u001b[1;33m         torch.autograd.backward(\n\u001b[0m\u001b[0;32m    488\u001b[0m             \u001b[0mself\u001b[0m\u001b[1;33m,\u001b[0m \u001b[0mgradient\u001b[0m\u001b[1;33m,\u001b[0m \u001b[0mretain_graph\u001b[0m\u001b[1;33m,\u001b[0m \u001b[0mcreate_graph\u001b[0m\u001b[1;33m,\u001b[0m \u001b[0minputs\u001b[0m\u001b[1;33m=\u001b[0m\u001b[0minputs\u001b[0m\u001b[1;33m\u001b[0m\u001b[1;33m\u001b[0m\u001b[0m\n\u001b[0;32m    489\u001b[0m         )\n",
      "\u001b[1;32m~\\anaconda3\\lib\\site-packages\\torch\\autograd\\__init__.py\u001b[0m in \u001b[0;36mbackward\u001b[1;34m(tensors, grad_tensors, retain_graph, create_graph, grad_variables, inputs)\u001b[0m\n\u001b[0;32m    198\u001b[0m     \u001b[1;31m# some Python versions print out the first line of a multi-line function\u001b[0m\u001b[1;33m\u001b[0m\u001b[1;33m\u001b[0m\u001b[1;33m\u001b[0m\u001b[0m\n\u001b[0;32m    199\u001b[0m     \u001b[1;31m# calls in the traceback and some print out the last line\u001b[0m\u001b[1;33m\u001b[0m\u001b[1;33m\u001b[0m\u001b[1;33m\u001b[0m\u001b[0m\n\u001b[1;32m--> 200\u001b[1;33m     Variable._execution_engine.run_backward(  # Calls into the C++ engine to run the backward pass\n\u001b[0m\u001b[0;32m    201\u001b[0m         \u001b[0mtensors\u001b[0m\u001b[1;33m,\u001b[0m \u001b[0mgrad_tensors_\u001b[0m\u001b[1;33m,\u001b[0m \u001b[0mretain_graph\u001b[0m\u001b[1;33m,\u001b[0m \u001b[0mcreate_graph\u001b[0m\u001b[1;33m,\u001b[0m \u001b[0minputs\u001b[0m\u001b[1;33m,\u001b[0m\u001b[1;33m\u001b[0m\u001b[1;33m\u001b[0m\u001b[0m\n\u001b[0;32m    202\u001b[0m         allow_unreachable=True, accumulate_grad=True)  # Calls into the C++ engine to run the backward pass\n",
      "\u001b[1;31mKeyboardInterrupt\u001b[0m: "
     ]
    }
   ],
   "source": [
    "for epoch in range(10):\n",
    "    train(epoch)\n",
    "    test(epoch)"
   ]
  },
  {
   "cell_type": "code",
   "execution_count": 30,
   "id": "d6c47ab5",
   "metadata": {},
   "outputs": [],
   "source": [
    "import matplotlib.pyplot as plt\n",
    "import numpy as np"
   ]
  },
  {
   "cell_type": "code",
   "execution_count": 40,
   "id": "3ea1016f",
   "metadata": {},
   "outputs": [
    {
     "name": "stdout",
     "output_type": "stream",
     "text": [
      "torch.Size([32, 32, 3])\n"
     ]
    },
    {
     "data": {
      "image/png": "[encoded data removed]",
      "text/plain": [
       "<Figure size 432x288 with 1 Axes>"
      ]
     },
     "metadata": {
      "needs_background": "light"
     },
     "output_type": "display_data"
    }
   ],
   "source": [
    "data = torch.randn(1,128)\n",
    "\n",
    "y=model.decode(data)\n",
    "y=y.squeeze()\n",
    "img=y.swapaxes(0,1)\n",
    "img=img.swapaxes(1,2)\n",
    "#img=img.swapaxes(2,3)\n",
    "img = img.cpu().detach()\n",
    "print(img.shape)\n",
    "img = img.numpy()\n",
    "plt.imshow(img,cmap ='viridis')\n",
    "#plt.colorbar()\n",
    "plt.show()"
   ]
  }
 ],
 "metadata": {
  "kernelspec": {
   "display_name": "Python 3 (ipykernel)",
   "language": "python",
   "name": "python3"
  },
  "language_info": {
   "codemirror_mode": {
    "name": "ipython",
    "version": 3
   },
   "file_extension": ".py",
   "mimetype": "text/x-python",
   "name": "python",
   "nbconvert_exporter": "python",
   "pygments_lexer": "ipython3",
   "version": "3.10.13"
  }
 },
 "nbformat": 4,
 "nbformat_minor": 5
}
